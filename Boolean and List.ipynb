{
 "cells": [
  {
   "cell_type": "code",
   "execution_count": 1,
   "id": "6a55c982",
   "metadata": {},
   "outputs": [
    {
     "data": {
      "text/plain": [
       "True"
      ]
     },
     "execution_count": 1,
     "metadata": {},
     "output_type": "execute_result"
    }
   ],
   "source": [
    "True and True"
   ]
  },
  {
   "cell_type": "code",
   "execution_count": 2,
   "id": "b4513c17",
   "metadata": {},
   "outputs": [
    {
     "data": {
      "text/plain": [
       "False"
      ]
     },
     "execution_count": 2,
     "metadata": {},
     "output_type": "execute_result"
    }
   ],
   "source": [
    "True and False"
   ]
  },
  {
   "cell_type": "code",
   "execution_count": 3,
   "id": "039163a1",
   "metadata": {},
   "outputs": [
    {
     "data": {
      "text/plain": [
       "False"
      ]
     },
     "execution_count": 3,
     "metadata": {},
     "output_type": "execute_result"
    }
   ],
   "source": [
    "False and False"
   ]
  },
  {
   "cell_type": "code",
   "execution_count": 4,
   "id": "94224f5a",
   "metadata": {},
   "outputs": [
    {
     "data": {
      "text/plain": [
       "True"
      ]
     },
     "execution_count": 4,
     "metadata": {},
     "output_type": "execute_result"
    }
   ],
   "source": [
    "True or False"
   ]
  },
  {
   "cell_type": "code",
   "execution_count": 5,
   "id": "13cb3cf1",
   "metadata": {},
   "outputs": [
    {
     "data": {
      "text/plain": [
       "False"
      ]
     },
     "execution_count": 5,
     "metadata": {},
     "output_type": "execute_result"
    }
   ],
   "source": [
    "False or False"
   ]
  },
  {
   "cell_type": "code",
   "execution_count": 7,
   "id": "51ec0988",
   "metadata": {},
   "outputs": [],
   "source": [
    "str_1=\"1sdfs\"\n",
    "str_2=\"sds\"\n"
   ]
  },
  {
   "cell_type": "code",
   "execution_count": 8,
   "id": "ac6a8de1",
   "metadata": {},
   "outputs": [
    {
     "data": {
      "text/plain": [
       "False"
      ]
     },
     "execution_count": 8,
     "metadata": {},
     "output_type": "execute_result"
    }
   ],
   "source": [
    "str_1.isalpha()"
   ]
  },
  {
   "cell_type": "code",
   "execution_count": 9,
   "id": "cc335364",
   "metadata": {},
   "outputs": [
    {
     "data": {
      "text/plain": [
       "True"
      ]
     },
     "execution_count": 9,
     "metadata": {},
     "output_type": "execute_result"
    }
   ],
   "source": [
    "str_2.isalpha()"
   ]
  },
  {
   "cell_type": "markdown",
   "id": "0b54bd00",
   "metadata": {},
   "source": [
    "## List"
   ]
  },
  {
   "cell_type": "code",
   "execution_count": 10,
   "id": "6d3a63db",
   "metadata": {},
   "outputs": [
    {
     "data": {
      "text/plain": [
       "list"
      ]
     },
     "execution_count": 10,
     "metadata": {},
     "output_type": "execute_result"
    }
   ],
   "source": [
    "type([])"
   ]
  },
  {
   "cell_type": "code",
   "execution_count": 11,
   "id": "6595b124",
   "metadata": {},
   "outputs": [
    {
     "data": {
      "text/plain": [
       "tuple"
      ]
     },
     "execution_count": 11,
     "metadata": {},
     "output_type": "execute_result"
    }
   ],
   "source": [
    "type(())"
   ]
  },
  {
   "cell_type": "code",
   "execution_count": 12,
   "id": "519d12f6",
   "metadata": {},
   "outputs": [
    {
     "data": {
      "text/plain": [
       "dict"
      ]
     },
     "execution_count": 12,
     "metadata": {},
     "output_type": "execute_result"
    }
   ],
   "source": [
    "type({})"
   ]
  },
  {
   "cell_type": "code",
   "execution_count": 15,
   "id": "ff6bebb3",
   "metadata": {},
   "outputs": [],
   "source": [
    "lst=list()"
   ]
  },
  {
   "cell_type": "code",
   "execution_count": 16,
   "id": "908e7692",
   "metadata": {},
   "outputs": [
    {
     "data": {
      "text/plain": [
       "12"
      ]
     },
     "execution_count": 16,
     "metadata": {},
     "output_type": "execute_result"
    }
   ],
   "source": [
    "12"
   ]
  },
  {
   "cell_type": "code",
   "execution_count": 18,
   "id": "b6242925",
   "metadata": {},
   "outputs": [],
   "source": [
    "lst=['3q2','d','4']"
   ]
  },
  {
   "cell_type": "code",
   "execution_count": 19,
   "id": "21d9ea4c",
   "metadata": {},
   "outputs": [
    {
     "data": {
      "text/plain": [
       "['3q2', 'd', '4']"
      ]
     },
     "execution_count": 19,
     "metadata": {},
     "output_type": "execute_result"
    }
   ],
   "source": [
    "lst"
   ]
  },
  {
   "cell_type": "code",
   "execution_count": 23,
   "id": "0bcc31e1",
   "metadata": {},
   "outputs": [
    {
     "data": {
      "text/plain": [
       "['3q2', 'd', '4']"
      ]
     },
     "execution_count": 23,
     "metadata": {},
     "output_type": "execute_result"
    }
   ],
   "source": [
    "#indexing in list\n",
    "lst[:]"
   ]
  },
  {
   "cell_type": "code",
   "execution_count": 24,
   "id": "22998103",
   "metadata": {},
   "outputs": [
    {
     "data": {
      "text/plain": [
       "['d', '4']"
      ]
     },
     "execution_count": 24,
     "metadata": {},
     "output_type": "execute_result"
    }
   ],
   "source": [
    "lst[1:]"
   ]
  },
  {
   "cell_type": "code",
   "execution_count": 25,
   "id": "025290b4",
   "metadata": {},
   "outputs": [],
   "source": [
    "lst.insert(1,'Vipul')"
   ]
  },
  {
   "cell_type": "code",
   "execution_count": 26,
   "id": "44d610a8",
   "metadata": {},
   "outputs": [
    {
     "data": {
      "text/plain": [
       "['3q2', 'Vipul', 'd', '4']"
      ]
     },
     "execution_count": 26,
     "metadata": {},
     "output_type": "execute_result"
    }
   ],
   "source": [
    "lst"
   ]
  },
  {
   "cell_type": "markdown",
   "id": "4a3bb7b4",
   "metadata": {},
   "source": [
    "## Insert"
   ]
  },
  {
   "cell_type": "code",
   "execution_count": 27,
   "id": "08032152",
   "metadata": {},
   "outputs": [],
   "source": [
    "lst.insert(7,'vi')"
   ]
  },
  {
   "cell_type": "code",
   "execution_count": 28,
   "id": "94cc02d6",
   "metadata": {},
   "outputs": [
    {
     "data": {
      "text/plain": [
       "['3q2', 'Vipul', 'd', '4', 'vi']"
      ]
     },
     "execution_count": 28,
     "metadata": {},
     "output_type": "execute_result"
    }
   ],
   "source": [
    "lst"
   ]
  },
  {
   "cell_type": "markdown",
   "id": "99fac011",
   "metadata": {},
   "source": [
    "## Append"
   ]
  },
  {
   "cell_type": "code",
   "execution_count": 29,
   "id": "a151ab14",
   "metadata": {},
   "outputs": [],
   "source": [
    "lst.append('vipul tiwari')"
   ]
  },
  {
   "cell_type": "code",
   "execution_count": 31,
   "id": "4fb1aa8f",
   "metadata": {},
   "outputs": [
    {
     "data": {
      "text/plain": [
       "['3q2', 'Vipul', 'd', '4', 'vi', 'vipul tiwari']"
      ]
     },
     "execution_count": 31,
     "metadata": {},
     "output_type": "execute_result"
    }
   ],
   "source": [
    "lst"
   ]
  },
  {
   "cell_type": "code",
   "execution_count": 32,
   "id": "33594b4b",
   "metadata": {},
   "outputs": [],
   "source": [
    "lst.append(['hello','world'])"
   ]
  },
  {
   "cell_type": "code",
   "execution_count": 33,
   "id": "db43e812",
   "metadata": {},
   "outputs": [
    {
     "data": {
      "text/plain": [
       "['3q2', 'Vipul', 'd', '4', 'vi', 'vipul tiwari', ['hello', 'world']]"
      ]
     },
     "execution_count": 33,
     "metadata": {},
     "output_type": "execute_result"
    }
   ],
   "source": [
    "lst"
   ]
  },
  {
   "cell_type": "markdown",
   "id": "fc177a49",
   "metadata": {},
   "source": [
    "## Extend"
   ]
  },
  {
   "cell_type": "code",
   "execution_count": 44,
   "id": "2865639f",
   "metadata": {},
   "outputs": [],
   "source": [
    "lst=[1,2,3,4,5]"
   ]
  },
  {
   "cell_type": "code",
   "execution_count": 36,
   "id": "05b0b126",
   "metadata": {},
   "outputs": [],
   "source": [
    "lst.extend([1,2])"
   ]
  },
  {
   "cell_type": "code",
   "execution_count": 37,
   "id": "4107fc72",
   "metadata": {},
   "outputs": [
    {
     "data": {
      "text/plain": [
       "[1, 2, 3, 4, 5, 1, 2]"
      ]
     },
     "execution_count": 37,
     "metadata": {},
     "output_type": "execute_result"
    }
   ],
   "source": [
    "lst"
   ]
  },
  {
   "cell_type": "code",
   "execution_count": 38,
   "id": "26a1d286",
   "metadata": {},
   "outputs": [],
   "source": [
    "lst.append('s')"
   ]
  },
  {
   "cell_type": "code",
   "execution_count": 39,
   "id": "fba13e51",
   "metadata": {},
   "outputs": [
    {
     "data": {
      "text/plain": [
       "[1, 2, 3, 4, 5, 1, 2, 's']"
      ]
     },
     "execution_count": 39,
     "metadata": {},
     "output_type": "execute_result"
    }
   ],
   "source": [
    "lst"
   ]
  },
  {
   "cell_type": "code",
   "execution_count": 41,
   "id": "0bfbd294",
   "metadata": {},
   "outputs": [],
   "source": [
    "lst.extend(['s'])"
   ]
  },
  {
   "cell_type": "code",
   "execution_count": 42,
   "id": "2c560daf",
   "metadata": {},
   "outputs": [
    {
     "data": {
      "text/plain": [
       "[1, 2, 3, 4, 5, 1, 2, 's', 's']"
      ]
     },
     "execution_count": 42,
     "metadata": {},
     "output_type": "execute_result"
    }
   ],
   "source": [
    "lst"
   ]
  },
  {
   "cell_type": "code",
   "execution_count": 45,
   "id": "68565a5b",
   "metadata": {},
   "outputs": [
    {
     "data": {
      "text/plain": [
       "15"
      ]
     },
     "execution_count": 45,
     "metadata": {},
     "output_type": "execute_result"
    }
   ],
   "source": [
    "sum(lst)"
   ]
  },
  {
   "cell_type": "code",
   "execution_count": 46,
   "id": "0d87cecb",
   "metadata": {},
   "outputs": [
    {
     "data": {
      "text/plain": [
       "1"
      ]
     },
     "execution_count": 46,
     "metadata": {},
     "output_type": "execute_result"
    }
   ],
   "source": [
    "lst.pop(0)"
   ]
  },
  {
   "cell_type": "code",
   "execution_count": 47,
   "id": "783c20f2",
   "metadata": {},
   "outputs": [
    {
     "data": {
      "text/plain": [
       "[2, 3, 4, 5]"
      ]
     },
     "execution_count": 47,
     "metadata": {},
     "output_type": "execute_result"
    }
   ],
   "source": [
    "lst"
   ]
  },
  {
   "cell_type": "code",
   "execution_count": 48,
   "id": "e1a92d2f",
   "metadata": {},
   "outputs": [
    {
     "data": {
      "text/plain": [
       "5"
      ]
     },
     "execution_count": 48,
     "metadata": {},
     "output_type": "execute_result"
    }
   ],
   "source": [
    "lst.pop()"
   ]
  },
  {
   "cell_type": "markdown",
   "id": "b27951c3",
   "metadata": {},
   "source": [
    "## Sets"
   ]
  },
  {
   "cell_type": "markdown",
   "id": "279a8831",
   "metadata": {},
   "source": [
    "##### Set is unorderd collection of datastype, it doesn't have any duplicate values, it is mutable"
   ]
  },
  {
   "cell_type": "code",
   "execution_count": 49,
   "id": "43bc34d8",
   "metadata": {},
   "outputs": [],
   "source": [
    "#defining set"
   ]
  },
  {
   "cell_type": "code",
   "execution_count": 51,
   "id": "59bae6ef",
   "metadata": {},
   "outputs": [],
   "source": [
    "set_var={1,2,3,4,3}"
   ]
  },
  {
   "cell_type": "code",
   "execution_count": 52,
   "id": "d3cc7ab5",
   "metadata": {},
   "outputs": [
    {
     "data": {
      "text/plain": [
       "{1, 2, 3, 4}"
      ]
     },
     "execution_count": 52,
     "metadata": {},
     "output_type": "execute_result"
    }
   ],
   "source": [
    "set_var"
   ]
  },
  {
   "cell_type": "code",
   "execution_count": 54,
   "id": "3a87c897",
   "metadata": {},
   "outputs": [],
   "source": [
    "set_var={\"avengers\",\"ironman\",\"hitman\"}"
   ]
  },
  {
   "cell_type": "code",
   "execution_count": 55,
   "id": "4ffba2d7",
   "metadata": {},
   "outputs": [
    {
     "name": "stdout",
     "output_type": "stream",
     "text": [
      "{'ironman', 'hitman', 'avengers'}\n"
     ]
    }
   ],
   "source": [
    "print(set_var)"
   ]
  },
  {
   "cell_type": "code",
   "execution_count": 56,
   "id": "af9f0d47",
   "metadata": {},
   "outputs": [
    {
     "data": {
      "text/plain": [
       "set"
      ]
     },
     "execution_count": 56,
     "metadata": {},
     "output_type": "execute_result"
    }
   ],
   "source": [
    "type(set_var)"
   ]
  },
  {
   "cell_type": "code",
   "execution_count": 58,
   "id": "2a8ef493",
   "metadata": {},
   "outputs": [],
   "source": [
    "#set doesn't support indexing"
   ]
  },
  {
   "cell_type": "code",
   "execution_count": 59,
   "id": "ab871b98",
   "metadata": {},
   "outputs": [],
   "source": [
    "# add function to add elements"
   ]
  },
  {
   "cell_type": "code",
   "execution_count": 60,
   "id": "866d33f8",
   "metadata": {},
   "outputs": [],
   "source": [
    "set_var.add(\"hulk\")"
   ]
  },
  {
   "cell_type": "code",
   "execution_count": 61,
   "id": "8cb4bd79",
   "metadata": {},
   "outputs": [
    {
     "data": {
      "text/plain": [
       "{'avengers', 'hitman', 'hulk', 'ironman'}"
      ]
     },
     "execution_count": 61,
     "metadata": {},
     "output_type": "execute_result"
    }
   ],
   "source": [
    "set_var"
   ]
  },
  {
   "cell_type": "code",
   "execution_count": 69,
   "id": "9b14f982",
   "metadata": {},
   "outputs": [],
   "source": [
    "set1={\"avengers\",\"ironman\",\"hitman\"}\n",
    "set2={\"avengers\",\"ironman\",\"hitman\",\"hulk\"}"
   ]
  },
  {
   "cell_type": "code",
   "execution_count": 68,
   "id": "ab96b4df",
   "metadata": {},
   "outputs": [
    {
     "name": "stdout",
     "output_type": "stream",
     "text": [
      "{'hulk'}\n"
     ]
    }
   ],
   "source": [
    "print(set_2.difference(set_1))"
   ]
  },
  {
   "cell_type": "code",
   "execution_count": 70,
   "id": "6b06fdbe",
   "metadata": {},
   "outputs": [
    {
     "data": {
      "text/plain": [
       "{'avengers', 'hitman', 'ironman'}"
      ]
     },
     "execution_count": 70,
     "metadata": {},
     "output_type": "execute_result"
    }
   ],
   "source": [
    "set2.intersection(set1)"
   ]
  },
  {
   "cell_type": "markdown",
   "id": "3b8131cc",
   "metadata": {},
   "source": [
    "## Dictionaries"
   ]
  },
  {
   "cell_type": "code",
   "execution_count": 73,
   "id": "dd7bdb96",
   "metadata": {},
   "outputs": [],
   "source": [
    "dic={}"
   ]
  },
  {
   "cell_type": "code",
   "execution_count": 74,
   "id": "f7208d69",
   "metadata": {},
   "outputs": [
    {
     "data": {
      "text/plain": [
       "dict"
      ]
     },
     "execution_count": 74,
     "metadata": {},
     "output_type": "execute_result"
    }
   ],
   "source": [
    "type(dic)"
   ]
  },
  {
   "cell_type": "code",
   "execution_count": 75,
   "id": "3b2afc20",
   "metadata": {},
   "outputs": [],
   "source": [
    "dic={\"car1\":\"audi\",\"car2\":\"bmw\"}"
   ]
  },
  {
   "cell_type": "code",
   "execution_count": 76,
   "id": "20940c29",
   "metadata": {},
   "outputs": [
    {
     "data": {
      "text/plain": [
       "{'car1': 'audi', 'car2': 'bmw'}"
      ]
     },
     "execution_count": 76,
     "metadata": {},
     "output_type": "execute_result"
    }
   ],
   "source": [
    "dic"
   ]
  },
  {
   "cell_type": "code",
   "execution_count": 80,
   "id": "f3988cae",
   "metadata": {},
   "outputs": [
    {
     "data": {
      "text/plain": [
       "'audi'"
      ]
     },
     "execution_count": 80,
     "metadata": {},
     "output_type": "execute_result"
    }
   ],
   "source": [
    "dic['car1']"
   ]
  },
  {
   "cell_type": "code",
   "execution_count": 81,
   "id": "9ed35bc0",
   "metadata": {},
   "outputs": [
    {
     "name": "stdout",
     "output_type": "stream",
     "text": [
      "car1\n",
      "car2\n"
     ]
    }
   ],
   "source": [
    "for i in dic:\n",
    "    print(i)"
   ]
  },
  {
   "cell_type": "code",
   "execution_count": 82,
   "id": "0afd361b",
   "metadata": {},
   "outputs": [
    {
     "name": "stdout",
     "output_type": "stream",
     "text": [
      "audi\n",
      "bmw\n"
     ]
    }
   ],
   "source": [
    "for i in dic.values():\n",
    "    print(i)"
   ]
  },
  {
   "cell_type": "code",
   "execution_count": 83,
   "id": "d3bf83d8",
   "metadata": {},
   "outputs": [
    {
     "name": "stdout",
     "output_type": "stream",
     "text": [
      "('car1', 'audi')\n",
      "('car2', 'bmw')\n"
     ]
    }
   ],
   "source": [
    "for i in dic.items():\n",
    "    print(i)"
   ]
  },
  {
   "cell_type": "markdown",
   "id": "2afde3dd",
   "metadata": {},
   "source": [
    "##### Nested Dictionary"
   ]
  },
  {
   "cell_type": "code",
   "execution_count": 84,
   "id": "d9b38b9c",
   "metadata": {},
   "outputs": [],
   "source": [
    "car1_model={'mercedes':1960}\n",
    "car2_model={'Audi':1970}\n",
    "car3_model={'Ambassador':1980}\n",
    "car_type={'car1':car1_model,'car2':car2_model,'car3':car3_model}"
   ]
  },
  {
   "cell_type": "code",
   "execution_count": 85,
   "id": "4ea819b5",
   "metadata": {},
   "outputs": [
    {
     "data": {
      "text/plain": [
       "{'car1': {'mercedes': 1960},\n",
       " 'car2': {'Audi': 1970},\n",
       " 'car3': {'Ambassador': 1980}}"
      ]
     },
     "execution_count": 85,
     "metadata": {},
     "output_type": "execute_result"
    }
   ],
   "source": [
    "car_type"
   ]
  },
  {
   "cell_type": "code",
   "execution_count": 86,
   "id": "8d4aed27",
   "metadata": {},
   "outputs": [
    {
     "data": {
      "text/plain": [
       "{'mercedes': 1960}"
      ]
     },
     "execution_count": 86,
     "metadata": {},
     "output_type": "execute_result"
    }
   ],
   "source": [
    "car_type['car1']"
   ]
  },
  {
   "cell_type": "code",
   "execution_count": 87,
   "id": "130b0196",
   "metadata": {},
   "outputs": [
    {
     "ename": "NameError",
     "evalue": "name 'df' is not defined",
     "output_type": "error",
     "traceback": [
      "\u001b[1;31m---------------------------------------------------------------------------\u001b[0m",
      "\u001b[1;31mNameError\u001b[0m                                 Traceback (most recent call last)",
      "\u001b[1;32m~\\AppData\\Local\\Temp/ipykernel_18816/1219190491.py\u001b[0m in \u001b[0;36m<module>\u001b[1;34m\u001b[0m\n\u001b[1;32m----> 1\u001b[1;33m \u001b[0mtype\u001b[0m\u001b[1;33m(\u001b[0m\u001b[0mdf\u001b[0m\u001b[1;33m.\u001b[0m\u001b[0mloc\u001b[0m\u001b[1;33m[\u001b[0m\u001b[1;34m'Row1'\u001b[0m\u001b[1;33m]\u001b[0m\u001b[1;33m)\u001b[0m\u001b[1;33m\u001b[0m\u001b[1;33m\u001b[0m\u001b[0m\n\u001b[0m",
      "\u001b[1;31mNameError\u001b[0m: name 'df' is not defined"
     ]
    }
   ],
   "source": []
  },
  {
   "cell_type": "code",
   "execution_count": null,
   "id": "c7f3caa3",
   "metadata": {},
   "outputs": [],
   "source": []
  }
 ],
 "metadata": {
  "kernelspec": {
   "display_name": "Python 3 (ipykernel)",
   "language": "python",
   "name": "python3"
  },
  "language_info": {
   "codemirror_mode": {
    "name": "ipython",
    "version": 3
   },
   "file_extension": ".py",
   "mimetype": "text/x-python",
   "name": "python",
   "nbconvert_exporter": "python",
   "pygments_lexer": "ipython3",
   "version": "3.9.7"
  }
 },
 "nbformat": 4,
 "nbformat_minor": 5
}
