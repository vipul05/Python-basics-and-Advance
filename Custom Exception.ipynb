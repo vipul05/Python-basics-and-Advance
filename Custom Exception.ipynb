{
 "cells": [
  {
   "cell_type": "markdown",
   "id": "a51ff118",
   "metadata": {},
   "source": [
    "## Custom Exception"
   ]
  },
  {
   "cell_type": "code",
   "execution_count": 7,
   "id": "e67d37d5",
   "metadata": {},
   "outputs": [],
   "source": [
    "class Error(Exception):\n",
    "    pass\n",
    "class dobException(Error):\n",
    "    pass"
   ]
  },
  {
   "cell_type": "code",
   "execution_count": 17,
   "id": "c9e65cd9",
   "metadata": {},
   "outputs": [
    {
     "name": "stdout",
     "output_type": "stream",
     "text": [
      "Please enter the year of Birth 1990\n",
      "The year age is not valid. You can't apply.\n"
     ]
    }
   ],
   "source": [
    "year=int(input(\"Please enter the year of Birth \"))\n",
    "age=2022-year\n",
    "try:\n",
    "    if age<=30 & age>20:\n",
    "        print(\"The Age is valid. You can apply.\")\n",
    "    else:\n",
    "        raise dobException\n",
    "except dobException:\n",
    "    print(\"The year age is not valid. You can't apply.\")"
   ]
  },
  {
   "cell_type": "code",
   "execution_count": 18,
   "id": "0b75ed96",
   "metadata": {},
   "outputs": [],
   "source": [
    "# if the age is not between 20 to 30. The applicant cannot apply.\n",
    "#its a small problem statement taken to understand custom exception"
   ]
  },
  {
   "cell_type": "code",
   "execution_count": null,
   "id": "2ca93ad4",
   "metadata": {},
   "outputs": [],
   "source": []
  }
 ],
 "metadata": {
  "kernelspec": {
   "display_name": "Python 3 (ipykernel)",
   "language": "python",
   "name": "python3"
  },
  "language_info": {
   "codemirror_mode": {
    "name": "ipython",
    "version": 3
   },
   "file_extension": ".py",
   "mimetype": "text/x-python",
   "name": "python",
   "nbconvert_exporter": "python",
   "pygments_lexer": "ipython3",
   "version": "3.9.7"
  }
 },
 "nbformat": 4,
 "nbformat_minor": 5
}
