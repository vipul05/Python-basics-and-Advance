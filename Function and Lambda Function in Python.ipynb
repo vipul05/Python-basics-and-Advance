{
 "cells": [
  {
   "cell_type": "markdown",
   "id": "0c4a6533",
   "metadata": {},
   "source": [
    "## Function in Python"
   ]
  },
  {
   "cell_type": "code",
   "execution_count": 7,
   "id": "f53b474e",
   "metadata": {},
   "outputs": [],
   "source": [
    "def even_odd(num):\n",
    "    if num%2==0:\n",
    "        print(num,'is Even')\n",
    "    else:\n",
    "        print(num,'is Odd')"
   ]
  },
  {
   "cell_type": "code",
   "execution_count": 6,
   "id": "c3608f2f",
   "metadata": {},
   "outputs": [
    {
     "name": "stdout",
     "output_type": "stream",
     "text": [
      "1  is Odd\n"
     ]
    }
   ],
   "source": [
    "even_odd(1)"
   ]
  },
  {
   "cell_type": "code",
   "execution_count": 8,
   "id": "5c14cec9",
   "metadata": {},
   "outputs": [],
   "source": [
    "def add_number(add1,add2):\n",
    "    return add1+add2"
   ]
  },
  {
   "cell_type": "code",
   "execution_count": 9,
   "id": "052b704f",
   "metadata": {},
   "outputs": [
    {
     "data": {
      "text/plain": [
       "5"
      ]
     },
     "execution_count": 9,
     "metadata": {},
     "output_type": "execute_result"
    }
   ],
   "source": [
    "add_number(1,4)"
   ]
  },
  {
   "cell_type": "code",
   "execution_count": 14,
   "id": "381df636",
   "metadata": {},
   "outputs": [],
   "source": [
    "#name being positional and age is keyword argument as the value is initialized\n",
    "def hello(name,age=29):\n",
    "    print(\"my name is {} and age is {}\".format(name,age))"
   ]
  },
  {
   "cell_type": "code",
   "execution_count": 13,
   "id": "aaa48b30",
   "metadata": {},
   "outputs": [
    {
     "name": "stdout",
     "output_type": "stream",
     "text": [
      "my name is Vipul and age is 22\n"
     ]
    }
   ],
   "source": [
    "hello('Vipul',22)"
   ]
  },
  {
   "cell_type": "code",
   "execution_count": 15,
   "id": "0ddf6cd9",
   "metadata": {},
   "outputs": [],
   "source": [
    "def hello(*args,**kwargs):\n",
    "    print(args)\n",
    "    print(kwargs)"
   ]
  },
  {
   "cell_type": "code",
   "execution_count": 16,
   "id": "97d9b3df",
   "metadata": {},
   "outputs": [
    {
     "name": "stdout",
     "output_type": "stream",
     "text": [
      "('Vipul', 'T')\n",
      "{'age': 22, 'dob': 1998}\n"
     ]
    }
   ],
   "source": [
    "hello('Vipul','T',age=22,dob=1998)"
   ]
  },
  {
   "cell_type": "code",
   "execution_count": 17,
   "id": "e29eb86c",
   "metadata": {},
   "outputs": [],
   "source": [
    "lst=['Vipul','T']\n",
    "dict_arg={'age': 22, 'dob': 1998}"
   ]
  },
  {
   "cell_type": "code",
   "execution_count": 19,
   "id": "f0ee7366",
   "metadata": {},
   "outputs": [
    {
     "name": "stdout",
     "output_type": "stream",
     "text": [
      "(['Vipul', 'T'], {'age': 22, 'dob': 1998})\n",
      "{}\n"
     ]
    }
   ],
   "source": [
    "hello(lst,dict_arg)"
   ]
  },
  {
   "cell_type": "code",
   "execution_count": 20,
   "id": "605904c0",
   "metadata": {},
   "outputs": [
    {
     "name": "stdout",
     "output_type": "stream",
     "text": [
      "('Vipul', 'T')\n",
      "{'age': 22, 'dob': 1998}\n"
     ]
    }
   ],
   "source": [
    "hello(*lst,**dict_arg)"
   ]
  },
  {
   "cell_type": "code",
   "execution_count": 29,
   "id": "17f66b52",
   "metadata": {},
   "outputs": [],
   "source": [
    "lst=[1,2,3,4,5,6,7,8]"
   ]
  },
  {
   "cell_type": "code",
   "execution_count": 30,
   "id": "8dcb95e0",
   "metadata": {},
   "outputs": [],
   "source": [
    "def evenoddsum(lst):\n",
    "    even_sum=0\n",
    "    odd_sum=0\n",
    "    for i in lst:\n",
    "        if i%2==0:\n",
    "            even_sum=even_sum+i\n",
    "        else:\n",
    "            odd_sum=odd_sum+i\n",
    "    return even_sum,odd_sum"
   ]
  },
  {
   "cell_type": "code",
   "execution_count": 31,
   "id": "39a1331e",
   "metadata": {},
   "outputs": [
    {
     "data": {
      "text/plain": [
       "(20, 16)"
      ]
     },
     "execution_count": 31,
     "metadata": {},
     "output_type": "execute_result"
    }
   ],
   "source": [
    "evenoddsum(lst)"
   ]
  },
  {
   "cell_type": "markdown",
   "id": "987386f1",
   "metadata": {},
   "source": [
    "## Lambda Function"
   ]
  },
  {
   "cell_type": "code",
   "execution_count": 34,
   "id": "457d4010",
   "metadata": {},
   "outputs": [],
   "source": [
    "def addition(a,b):\n",
    "    return a+b\n"
   ]
  },
  {
   "cell_type": "code",
   "execution_count": 35,
   "id": "b6a3a292",
   "metadata": {},
   "outputs": [
    {
     "data": {
      "text/plain": [
       "9"
      ]
     },
     "execution_count": 35,
     "metadata": {},
     "output_type": "execute_result"
    }
   ],
   "source": [
    "addition(4,5)"
   ]
  },
  {
   "cell_type": "code",
   "execution_count": 36,
   "id": "f67b6694",
   "metadata": {},
   "outputs": [],
   "source": [
    "addition=lambda a,b:a+b"
   ]
  },
  {
   "cell_type": "code",
   "execution_count": 37,
   "id": "a302eaaa",
   "metadata": {},
   "outputs": [
    {
     "data": {
      "text/plain": [
       "26"
      ]
     },
     "execution_count": 37,
     "metadata": {},
     "output_type": "execute_result"
    }
   ],
   "source": [
    "addition(14,12)"
   ]
  },
  {
   "cell_type": "code",
   "execution_count": 38,
   "id": "8825c1ef",
   "metadata": {},
   "outputs": [],
   "source": [
    "subtract=lambda a,b:a-b"
   ]
  },
  {
   "cell_type": "code",
   "execution_count": 39,
   "id": "778d88d2",
   "metadata": {},
   "outputs": [
    {
     "data": {
      "text/plain": [
       "2"
      ]
     },
     "execution_count": 39,
     "metadata": {},
     "output_type": "execute_result"
    }
   ],
   "source": [
    "subtract(4,2)"
   ]
  },
  {
   "cell_type": "code",
   "execution_count": 40,
   "id": "911dd13e",
   "metadata": {},
   "outputs": [],
   "source": [
    "def even(num):\n",
    "    if num%2==0:\n",
    "        return True"
   ]
  },
  {
   "cell_type": "code",
   "execution_count": 43,
   "id": "6e621cb6",
   "metadata": {},
   "outputs": [
    {
     "data": {
      "text/plain": [
       "True"
      ]
     },
     "execution_count": 43,
     "metadata": {},
     "output_type": "execute_result"
    }
   ],
   "source": [
    "even(24)"
   ]
  },
  {
   "cell_type": "code",
   "execution_count": 44,
   "id": "0e50e66e",
   "metadata": {},
   "outputs": [],
   "source": [
    "even1=lambda a:a%2==0"
   ]
  },
  {
   "cell_type": "code",
   "execution_count": 45,
   "id": "afed07c0",
   "metadata": {},
   "outputs": [
    {
     "data": {
      "text/plain": [
       "True"
      ]
     },
     "execution_count": 45,
     "metadata": {},
     "output_type": "execute_result"
    }
   ],
   "source": [
    "even1(12)"
   ]
  },
  {
   "cell_type": "code",
   "execution_count": 46,
   "id": "ea1e457d",
   "metadata": {},
   "outputs": [],
   "source": [
    "def addition(x,y,z):\n",
    "    return x+y+z"
   ]
  },
  {
   "cell_type": "code",
   "execution_count": 47,
   "id": "049a7ce4",
   "metadata": {},
   "outputs": [
    {
     "data": {
      "text/plain": [
       "11"
      ]
     },
     "execution_count": 47,
     "metadata": {},
     "output_type": "execute_result"
    }
   ],
   "source": [
    "addition(3,3,5)"
   ]
  },
  {
   "cell_type": "code",
   "execution_count": 48,
   "id": "b84528ee",
   "metadata": {},
   "outputs": [],
   "source": [
    "addition3=lambda x,y,z:x+y+z"
   ]
  },
  {
   "cell_type": "code",
   "execution_count": 49,
   "id": "5e1ff2c3",
   "metadata": {},
   "outputs": [
    {
     "data": {
      "text/plain": [
       "7"
      ]
     },
     "execution_count": 49,
     "metadata": {},
     "output_type": "execute_result"
    }
   ],
   "source": [
    "addition3(1,2,4)"
   ]
  }
 ],
 "metadata": {
  "kernelspec": {
   "display_name": "Python 3 (ipykernel)",
   "language": "python",
   "name": "python3"
  },
  "language_info": {
   "codemirror_mode": {
    "name": "ipython",
    "version": 3
   },
   "file_extension": ".py",
   "mimetype": "text/x-python",
   "name": "python",
   "nbconvert_exporter": "python",
   "pygments_lexer": "ipython3",
   "version": "3.9.7"
  }
 },
 "nbformat": 4,
 "nbformat_minor": 5
}
