{
 "cells": [
  {
   "cell_type": "markdown",
   "id": "041e234c",
   "metadata": {},
   "source": [
    "## Map function in Python"
   ]
  },
  {
   "cell_type": "code",
   "execution_count": 1,
   "id": "6ca10820",
   "metadata": {},
   "outputs": [],
   "source": [
    "def even_or_odd(num):\n",
    "    if num%2==0:\n",
    "        return \"even\"\n",
    "    else:\n",
    "        return \"{} is odd\".format(num)"
   ]
  },
  {
   "cell_type": "code",
   "execution_count": 2,
   "id": "eb3652ad",
   "metadata": {},
   "outputs": [
    {
     "data": {
      "text/plain": [
       "'3 is odd'"
      ]
     },
     "execution_count": 2,
     "metadata": {},
     "output_type": "execute_result"
    }
   ],
   "source": [
    "even_or_odd(3)"
   ]
  },
  {
   "cell_type": "code",
   "execution_count": 3,
   "id": "93570a04",
   "metadata": {},
   "outputs": [],
   "source": [
    "lst=[1,2,3,4,5,6,7,8,3]"
   ]
  },
  {
   "cell_type": "code",
   "execution_count": 4,
   "id": "e1650e2e",
   "metadata": {},
   "outputs": [
    {
     "data": {
      "text/plain": [
       "['1 is odd',\n",
       " 'even',\n",
       " '3 is odd',\n",
       " 'even',\n",
       " '5 is odd',\n",
       " 'even',\n",
       " '7 is odd',\n",
       " 'even',\n",
       " '3 is odd']"
      ]
     },
     "execution_count": 4,
     "metadata": {},
     "output_type": "execute_result"
    }
   ],
   "source": [
    "list(map( even_or_odd , lst ))"
   ]
  },
  {
   "cell_type": "code",
   "execution_count": null,
   "id": "4ee960c4",
   "metadata": {},
   "outputs": [],
   "source": []
  },
  {
   "cell_type": "code",
   "execution_count": null,
   "id": "b75ceb43",
   "metadata": {},
   "outputs": [],
   "source": []
  }
 ],
 "metadata": {
  "kernelspec": {
   "display_name": "Python 3 (ipykernel)",
   "language": "python",
   "name": "python3"
  },
  "language_info": {
   "codemirror_mode": {
    "name": "ipython",
    "version": 3
   },
   "file_extension": ".py",
   "mimetype": "text/x-python",
   "name": "python",
   "nbconvert_exporter": "python",
   "pygments_lexer": "ipython3",
   "version": "3.9.7"
  }
 },
 "nbformat": 4,
 "nbformat_minor": 5
}
