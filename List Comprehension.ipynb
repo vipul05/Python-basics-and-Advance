{
 "cells": [
  {
   "cell_type": "markdown",
   "id": "334ebed3",
   "metadata": {},
   "source": [
    "## List Comprehension"
   ]
  },
  {
   "cell_type": "code",
   "execution_count": 1,
   "id": "cea6efed",
   "metadata": {},
   "outputs": [],
   "source": [
    "lst1=[]\n",
    "def lst_square(lst):\n",
    "    for i in lst:\n",
    "        lst1.append(i*i)\n",
    "    return lst1"
   ]
  },
  {
   "cell_type": "code",
   "execution_count": 2,
   "id": "c3eb80a8",
   "metadata": {},
   "outputs": [
    {
     "data": {
      "text/plain": [
       "[1, 4, 9, 16, 25, 36, 49, 64]"
      ]
     },
     "execution_count": 2,
     "metadata": {},
     "output_type": "execute_result"
    }
   ],
   "source": [
    "lst_square([1,2,3,4,5,6,7,8])"
   ]
  },
  {
   "cell_type": "code",
   "execution_count": 3,
   "id": "7d0f4f9b",
   "metadata": {},
   "outputs": [],
   "source": [
    "#seems like a lot of code for just getting squres of a list elements"
   ]
  },
  {
   "cell_type": "code",
   "execution_count": 4,
   "id": "f8ecadbe",
   "metadata": {},
   "outputs": [],
   "source": [
    "#lets now try list comprehension"
   ]
  },
  {
   "cell_type": "code",
   "execution_count": 5,
   "id": "2b15e7f4",
   "metadata": {},
   "outputs": [],
   "source": [
    "lst=[1,2,3,4,5,6]\n",
    "list1=[i*i for i in lst]"
   ]
  },
  {
   "cell_type": "code",
   "execution_count": 6,
   "id": "5f4f7216",
   "metadata": {},
   "outputs": [
    {
     "data": {
      "text/plain": [
       "[1, 4, 9, 16, 25, 36]"
      ]
     },
     "execution_count": 6,
     "metadata": {},
     "output_type": "execute_result"
    }
   ],
   "source": [
    "list1"
   ]
  },
  {
   "cell_type": "code",
   "execution_count": 7,
   "id": "d6aff7ff",
   "metadata": {},
   "outputs": [],
   "source": [
    "#now what if i just want squre of even numbers"
   ]
  },
  {
   "cell_type": "code",
   "execution_count": 8,
   "id": "6cf0e5a5",
   "metadata": {},
   "outputs": [
    {
     "data": {
      "text/plain": [
       "[4, 16, 36]"
      ]
     },
     "execution_count": 8,
     "metadata": {},
     "output_type": "execute_result"
    }
   ],
   "source": [
    "[i*i for i in lst if i%2==0]"
   ]
  }
 ],
 "metadata": {
  "kernelspec": {
   "display_name": "Python 3 (ipykernel)",
   "language": "python",
   "name": "python3"
  },
  "language_info": {
   "codemirror_mode": {
    "name": "ipython",
    "version": 3
   },
   "file_extension": ".py",
   "mimetype": "text/x-python",
   "name": "python",
   "nbconvert_exporter": "python",
   "pygments_lexer": "ipython3",
   "version": "3.9.7"
  }
 },
 "nbformat": 4,
 "nbformat_minor": 5
}
