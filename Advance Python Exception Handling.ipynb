{
 "cells": [
  {
   "cell_type": "markdown",
   "id": "aeddd355",
   "metadata": {},
   "source": [
    "## Python Exception Handling\n"
   ]
  },
  {
   "cell_type": "code",
   "execution_count": 1,
   "id": "9adee4a0",
   "metadata": {},
   "outputs": [
    {
     "ename": "NameError",
     "evalue": "name 'b' is not defined",
     "output_type": "error",
     "traceback": [
      "\u001b[1;31m---------------------------------------------------------------------------\u001b[0m",
      "\u001b[1;31mNameError\u001b[0m                                 Traceback (most recent call last)",
      "\u001b[1;32m~\\AppData\\Local\\Temp/ipykernel_16004/905401003.py\u001b[0m in \u001b[0;36m<module>\u001b[1;34m\u001b[0m\n\u001b[1;32m----> 1\u001b[1;33m \u001b[0ma\u001b[0m\u001b[1;33m=\u001b[0m\u001b[0mb\u001b[0m\u001b[1;33m\u001b[0m\u001b[1;33m\u001b[0m\u001b[0m\n\u001b[0m",
      "\u001b[1;31mNameError\u001b[0m: name 'b' is not defined"
     ]
    }
   ],
   "source": [
    "a=b"
   ]
  },
  {
   "cell_type": "code",
   "execution_count": 5,
   "id": "43f205f8",
   "metadata": {},
   "outputs": [
    {
     "name": "stdout",
     "output_type": "stream",
     "text": [
      "enter number 1 : 3\n",
      "enter number 2 : 5\n",
      "0.6\n",
      "15\n",
      "8\n"
     ]
    }
   ],
   "source": [
    "#TRY ELSE\n",
    "try:\n",
    "    # ssome error happened\n",
    "    a=int(input(\"enter number 1 : \"))\n",
    "    b=int(input(\"enter number 2 : \"))\n",
    "    c=a/b\n",
    "    d=a*b\n",
    "    e=a+b\n",
    "    \n",
    "except ZeroDivisionError:\n",
    "    print(\"Please provide number greater than 0.\")\n",
    "except NameError:\n",
    "    print(\"The use has not defined the variable.\")\n",
    "except TypeError:\n",
    "    print(\"Needs Similar Datatype.\")\n",
    "except Exception as ex:\n",
    "    print(ex)\n",
    "else:\n",
    "    print(c)\n",
    "    print(d)\n",
    "    print(e)"
   ]
  },
  {
   "cell_type": "code",
   "execution_count": null,
   "id": "27ec02df",
   "metadata": {},
   "outputs": [],
   "source": [
    "a=b"
   ]
  },
  {
   "cell_type": "code",
   "execution_count": null,
   "id": "b2e1f72b",
   "metadata": {},
   "outputs": [],
   "source": [
    "a=1\n",
    "b=\"s\"\n",
    "c=a+b"
   ]
  },
  {
   "cell_type": "code",
   "execution_count": null,
   "id": "d37310df",
   "metadata": {},
   "outputs": [],
   "source": [
    "12/0"
   ]
  },
  {
   "cell_type": "code",
   "execution_count": 7,
   "id": "87b6fee9",
   "metadata": {},
   "outputs": [
    {
     "name": "stdout",
     "output_type": "stream",
     "text": [
      "enter number 1 : 12\n",
      "enter number 2 : 0\n",
      "Please provide number greater than 0.\n",
      "The execution is done.\n"
     ]
    }
   ],
   "source": [
    "#Try Else Finally\n",
    "\n",
    "#TRY ELSE\n",
    "try:\n",
    "    # ssome error happened\n",
    "    a=int(input(\"enter number 1 : \"))\n",
    "    b=int(input(\"enter number 2 : \"))\n",
    "    c=a/b\n",
    "    d=a*b\n",
    "    e=a+b\n",
    "    \n",
    "except ZeroDivisionError:\n",
    "    print(\"Please provide number greater than 0.\")\n",
    "except NameError:\n",
    "    print(\"The use has not defined the variable.\")\n",
    "except TypeError:\n",
    "    print(\"Needs Similar Datatype.\")\n",
    "except Exception as ex:\n",
    "    print(ex)\n",
    "else:\n",
    "    print(c)\n",
    "finally:\n",
    "    print(\"The execution is done.\")\n"
   ]
  },
  {
   "cell_type": "code",
   "execution_count": null,
   "id": "81924deb",
   "metadata": {},
   "outputs": [],
   "source": []
  }
 ],
 "metadata": {
  "kernelspec": {
   "display_name": "Python 3 (ipykernel)",
   "language": "python",
   "name": "python3"
  },
  "language_info": {
   "codemirror_mode": {
    "name": "ipython",
    "version": 3
   },
   "file_extension": ".py",
   "mimetype": "text/x-python",
   "name": "python",
   "nbconvert_exporter": "python",
   "pygments_lexer": "ipython3",
   "version": "3.9.7"
  }
 },
 "nbformat": 4,
 "nbformat_minor": 5
}
